{
 "cells": [
  {
   "cell_type": "code",
   "execution_count": null,
   "id": "b0cb45f7-232f-4d0b-b0d0-02766ab2a980",
   "metadata": {},
   "outputs": [],
   "source": [
    "import sqlalchemy\n",
    "import pandas as pd \n",
    "from sqlalchemy.orm import sessionmaker\n",
    "import requests\n",
    "import json\n",
    "from datetime import datetime\n",
    "import datetime\n",
    "import sqlite3"
   ]
  },
  {
   "cell_type": "code",
   "execution_count": null,
   "id": "3bd61a54-0256-4d8c-9d60-8e90df1cd2fc",
   "metadata": {},
   "outputs": [],
   "source": [
    "DATABASE_LOCATION = \"sqlite:///my_played_tracks.sqlite\"\n",
    "USER_ID=\" \" #Insert your spotify username\n",
    "TOKEN=\" \" #Insert your API token\n",
    "# A spotify account is required for this to be possible"
   ]
  },
  {
   "cell_type": "code",
   "execution_count": null,
   "id": "d087d3c4-efa4-4265-af9c-5b45add0ca3f",
   "metadata": {},
   "outputs": [],
   "source": [
    "def check_if_valid_data(df: pd.DataFrame) -> bool:\n",
    "    # Check if dataframe is empty\n",
    "    if df.empty:\n",
    "        print(\"No songs downloaded. Finishing execution\")\n",
    "        return False \n",
    "\n",
    "    # Primary Key Check\n",
    "    if pd.Series(df['played_at']).is_unique:\n",
    "        pass\n",
    "    else:\n",
    "        raise Exception(\"Primary Key check is violated\")\n",
    "\n",
    "    # Check for nulls\n",
    "    if df.isnull().values.any():\n",
    "        raise Exception(\"Null values found\")\n",
    "\n",
    "    # Check that all timestamps are of yesterday's date\n",
    "    yesterday = datetime.datetime.now() - datetime.timedelta(days=1)\n",
    "    yesterday = yesterday.replace(hour=0, minute=0, second=0, microsecond=0)\n",
    "\n",
    "    timestamps = df[\"timestamp\"].tolist()\n",
    "    for timestamp in timestamps:\n",
    "        if datetime.datetime.strptime(timestamp, '%Y-%m-%d') != yesterday:\n",
    "            raise Exception(\"At least one of the returned songs does not have a yesterday's timestamp\")\n",
    "\n",
    "    return True\n",
    "\n",
    "if __name__ == \"__main__\":\n",
    "\n",
    "    # Extract part of the ETL process\n",
    " \n",
    "    headers = {\n",
    "        \"Accept\" : \"application/json\",\n",
    "        \"Content-Type\" : \"application/json\",\n",
    "        \"Authorization\" : \"Bearer {token}\".format(token=TOKEN)\n",
    "    }\n",
    "    \n",
    "    # Convert time to Unix timestamp in miliseconds      \n",
    "    today = datetime.datetime.now()\n",
    "    yesterday = today - datetime.timedelta(days=1)\n",
    "    yesterday_unix_timestamp = int(yesterday.timestamp()) * 1000\n",
    "\n",
    "    # Download all songs you've listened to \"after yesterday\", which means in the last 24 hours      \n",
    "    r = requests.get(\"https://api.spotify.com/v1/me/player/recently-played?after={time}\".format(time=yesterday_unix_timestamp), headers = headers)\n",
    "\n",
    "    data = r.json()\n",
    "    \n",
    "    print(data)"
   ]
  },
  {
   "cell_type": "code",
   "execution_count": null,
   "id": "a6075b27-1730-4344-9a37-2ccfb97c4377",
   "metadata": {},
   "outputs": [],
   "source": [
    "song_names = []\n",
    "artist_names = []\n",
    "played_at_list = []\n",
    "timestamps = []\n",
    "\n",
    "    # Extracting only the relevant bits of data from the json object      \n",
    "for song in data[\"items\"]:\n",
    "        song_names.append(song[\"track\"][\"name\"])\n",
    "        artist_names.append(song[\"track\"][\"album\"][\"artists\"][0][\"name\"])\n",
    "        played_at_list.append(song[\"played_at\"])\n",
    "        timestamps.append(song[\"played_at\"][0:10])\n",
    "        \n",
    "    # Prepare a dictionary in order to turn it into a pandas dataframe below       \n",
    "song_dict = {\n",
    "        \"song_name\" : song_names,\n",
    "        \"artist_name\": artist_names,\n",
    "        \"played_at\" : played_at_list,\n",
    "        \"timestamp\" : timestamps\n",
    "    }\n",
    "\n",
    "song_df = pd.DataFrame(song_dict, columns = [\"song_name\", \"artist_name\", \"played_at\", \"timestamp\"])\n",
    "print (song_df) #prints the songs you've listened to within the specified timeframe    \n",
    "    # Validate"
   ]
  }
 ],
 "metadata": {
  "kernelspec": {
   "display_name": "Python 3 (ipykernel)",
   "language": "python",
   "name": "python3"
  },
  "language_info": {
   "codemirror_mode": {
    "name": "ipython",
    "version": 3
   },
   "file_extension": ".py",
   "mimetype": "text/x-python",
   "name": "python",
   "nbconvert_exporter": "python",
   "pygments_lexer": "ipython3",
   "version": "3.10.7"
  }
 },
 "nbformat": 4,
 "nbformat_minor": 5
}
